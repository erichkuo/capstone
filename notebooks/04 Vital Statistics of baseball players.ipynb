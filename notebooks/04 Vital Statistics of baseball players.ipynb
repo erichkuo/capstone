{
 "cells": [
  {
   "cell_type": "markdown",
   "metadata": {},
   "source": [
    "# Capstone: Vital Statistics of Professional Athletes\n",
    "\n",
    "## Analysis Notebook for pro baseball players"
   ]
  },
  {
   "cell_type": "code",
   "execution_count": 2,
   "metadata": {},
   "outputs": [],
   "source": [
    "import numpy as np\n",
    "import pandas as pd\n",
    "import matplotlib.pyplot as plt\n",
    "from scipy import stats\n",
    "\n",
    "%matplotlib inline"
   ]
  },
  {
   "cell_type": "code",
   "execution_count": 3,
   "metadata": {},
   "outputs": [],
   "source": [
    "# Read in dataframes\n",
    "all_baseball_df = pd.read_csv('./all_baseball_players.csv')\n",
    "deceased_baseball_df = pd.read_csv('./deceased_baseball_players.csv')"
   ]
  },
  {
   "cell_type": "code",
   "execution_count": 4,
   "metadata": {},
   "outputs": [
    {
     "data": {
      "text/html": [
       "<div>\n",
       "<style scoped>\n",
       "    .dataframe tbody tr th:only-of-type {\n",
       "        vertical-align: middle;\n",
       "    }\n",
       "\n",
       "    .dataframe tbody tr th {\n",
       "        vertical-align: top;\n",
       "    }\n",
       "\n",
       "    .dataframe thead th {\n",
       "        text-align: right;\n",
       "    }\n",
       "</style>\n",
       "<table border=\"1\" class=\"dataframe\">\n",
       "  <thead>\n",
       "    <tr style=\"text-align: right;\">\n",
       "      <th></th>\n",
       "      <th>Unnamed: 0</th>\n",
       "      <th>all star</th>\n",
       "      <th>birth city</th>\n",
       "      <th>birth date</th>\n",
       "      <th>birth year</th>\n",
       "      <th>experience</th>\n",
       "      <th>first year</th>\n",
       "      <th>games</th>\n",
       "      <th>last year</th>\n",
       "      <th>link</th>\n",
       "      <th>name</th>\n",
       "    </tr>\n",
       "  </thead>\n",
       "  <tbody>\n",
       "    <tr>\n",
       "      <th>14001</th>\n",
       "      <td>14001</td>\n",
       "      <td>0</td>\n",
       "      <td>United States, FL, Tampa</td>\n",
       "      <td>1997-01-17</td>\n",
       "      <td>1997</td>\n",
       "      <td>1</td>\n",
       "      <td>2018</td>\n",
       "      <td>28</td>\n",
       "      <td>2018</td>\n",
       "      <td>/players/t/tuckeky01.shtml</td>\n",
       "      <td>Kyle Tucker</td>\n",
       "    </tr>\n",
       "    <tr>\n",
       "      <th>14002</th>\n",
       "      <td>14002</td>\n",
       "      <td>0</td>\n",
       "      <td>Mexico, Sonora, Magdalena de Kino</td>\n",
       "      <td>1997-06-03</td>\n",
       "      <td>1997</td>\n",
       "      <td>1</td>\n",
       "      <td>2018</td>\n",
       "      <td>12</td>\n",
       "      <td>2018</td>\n",
       "      <td>/players/u/uriaslu01.shtml</td>\n",
       "      <td>Luis Urias</td>\n",
       "    </tr>\n",
       "    <tr>\n",
       "      <th>14003</th>\n",
       "      <td>14003</td>\n",
       "      <td>0</td>\n",
       "      <td>Colombia, Cartagena</td>\n",
       "      <td>1997-02-15</td>\n",
       "      <td>1997</td>\n",
       "      <td>1</td>\n",
       "      <td>2018</td>\n",
       "      <td>10</td>\n",
       "      <td>2018</td>\n",
       "      <td>/players/v/vilorme01.shtml</td>\n",
       "      <td>Meibrys Viloria</td>\n",
       "    </tr>\n",
       "    <tr>\n",
       "      <th>14004</th>\n",
       "      <td>14004</td>\n",
       "      <td>0</td>\n",
       "      <td>United States, NC, Durham</td>\n",
       "      <td>1997-12-20</td>\n",
       "      <td>1997</td>\n",
       "      <td>1</td>\n",
       "      <td>2018</td>\n",
       "      <td>3</td>\n",
       "      <td>2018</td>\n",
       "      <td>/players/w/wilsobr02.shtml</td>\n",
       "      <td>Bryse Wilson</td>\n",
       "    </tr>\n",
       "    <tr>\n",
       "      <th>14005</th>\n",
       "      <td>14005</td>\n",
       "      <td>0</td>\n",
       "      <td>Dominican Republic, Distrito Nacional, Santo D...</td>\n",
       "      <td>1998-10-25</td>\n",
       "      <td>1998</td>\n",
       "      <td>1</td>\n",
       "      <td>2018</td>\n",
       "      <td>116</td>\n",
       "      <td>2018</td>\n",
       "      <td>/players/s/sotoju01.shtml</td>\n",
       "      <td>Juan Soto</td>\n",
       "    </tr>\n",
       "  </tbody>\n",
       "</table>\n",
       "</div>"
      ],
      "text/plain": [
       "       Unnamed: 0  all star  \\\n",
       "14001       14001         0   \n",
       "14002       14002         0   \n",
       "14003       14003         0   \n",
       "14004       14004         0   \n",
       "14005       14005         0   \n",
       "\n",
       "                                              birth city  birth date  \\\n",
       "14001                           United States, FL, Tampa  1997-01-17   \n",
       "14002                  Mexico, Sonora, Magdalena de Kino  1997-06-03   \n",
       "14003                                Colombia, Cartagena  1997-02-15   \n",
       "14004                          United States, NC, Durham  1997-12-20   \n",
       "14005  Dominican Republic, Distrito Nacional, Santo D...  1998-10-25   \n",
       "\n",
       "       birth year  experience  first year  games  last year  \\\n",
       "14001        1997           1        2018     28       2018   \n",
       "14002        1997           1        2018     12       2018   \n",
       "14003        1997           1        2018     10       2018   \n",
       "14004        1997           1        2018      3       2018   \n",
       "14005        1998           1        2018    116       2018   \n",
       "\n",
       "                             link             name  \n",
       "14001  /players/t/tuckeky01.shtml      Kyle Tucker  \n",
       "14002  /players/u/uriaslu01.shtml       Luis Urias  \n",
       "14003  /players/v/vilorme01.shtml  Meibrys Viloria  \n",
       "14004  /players/w/wilsobr02.shtml     Bryse Wilson  \n",
       "14005   /players/s/sotoju01.shtml        Juan Soto  "
      ]
     },
     "execution_count": 4,
     "metadata": {},
     "output_type": "execute_result"
    }
   ],
   "source": [
    "all_baseball_df.tail()"
   ]
  },
  {
   "cell_type": "code",
   "execution_count": 5,
   "metadata": {},
   "outputs": [
    {
     "data": {
      "text/html": [
       "<div>\n",
       "<style scoped>\n",
       "    .dataframe tbody tr th:only-of-type {\n",
       "        vertical-align: middle;\n",
       "    }\n",
       "\n",
       "    .dataframe tbody tr th {\n",
       "        vertical-align: top;\n",
       "    }\n",
       "\n",
       "    .dataframe thead th {\n",
       "        text-align: right;\n",
       "    }\n",
       "</style>\n",
       "<table border=\"1\" class=\"dataframe\">\n",
       "  <thead>\n",
       "    <tr style=\"text-align: right;\">\n",
       "      <th></th>\n",
       "      <th>Unnamed: 0</th>\n",
       "      <th>all star</th>\n",
       "      <th>death date</th>\n",
       "      <th>death year</th>\n",
       "      <th>experience</th>\n",
       "      <th>first year</th>\n",
       "      <th>games</th>\n",
       "      <th>last year</th>\n",
       "      <th>link</th>\n",
       "      <th>name</th>\n",
       "    </tr>\n",
       "  </thead>\n",
       "  <tbody>\n",
       "    <tr>\n",
       "      <th>0</th>\n",
       "      <td>0</td>\n",
       "      <td>0</td>\n",
       "      <td>1919-04-28</td>\n",
       "      <td>1919</td>\n",
       "      <td>1</td>\n",
       "      <td>1880</td>\n",
       "      <td>1</td>\n",
       "      <td>1880</td>\n",
       "      <td>/players/a/ahearch01.shtml</td>\n",
       "      <td>Bill Ahearn</td>\n",
       "    </tr>\n",
       "    <tr>\n",
       "      <th>1</th>\n",
       "      <td>1</td>\n",
       "      <td>0</td>\n",
       "      <td>1919-07-24</td>\n",
       "      <td>1919</td>\n",
       "      <td>2</td>\n",
       "      <td>1884</td>\n",
       "      <td>48</td>\n",
       "      <td>1885</td>\n",
       "      <td>/players/b/begleed01.shtml</td>\n",
       "      <td>Ed Bagley</td>\n",
       "    </tr>\n",
       "    <tr>\n",
       "      <th>2</th>\n",
       "      <td>2</td>\n",
       "      <td>0</td>\n",
       "      <td>1919-03-24</td>\n",
       "      <td>1919</td>\n",
       "      <td>1</td>\n",
       "      <td>1889</td>\n",
       "      <td>1</td>\n",
       "      <td>1889</td>\n",
       "      <td>/players/b/batesjo01.shtml</td>\n",
       "      <td>John Bates</td>\n",
       "    </tr>\n",
       "    <tr>\n",
       "      <th>3</th>\n",
       "      <td>3</td>\n",
       "      <td>0</td>\n",
       "      <td>1919-10-14</td>\n",
       "      <td>1919</td>\n",
       "      <td>6</td>\n",
       "      <td>1894</td>\n",
       "      <td>527</td>\n",
       "      <td>1899</td>\n",
       "      <td>/players/b/blakeha01.shtml</td>\n",
       "      <td>Harry Blake</td>\n",
       "    </tr>\n",
       "    <tr>\n",
       "      <th>4</th>\n",
       "      <td>4</td>\n",
       "      <td>0</td>\n",
       "      <td>1919-08-21</td>\n",
       "      <td>1919</td>\n",
       "      <td>7</td>\n",
       "      <td>1886</td>\n",
       "      <td>288</td>\n",
       "      <td>1893</td>\n",
       "      <td>/players/c/clarkbo01.shtml</td>\n",
       "      <td>Bob Clark</td>\n",
       "    </tr>\n",
       "  </tbody>\n",
       "</table>\n",
       "</div>"
      ],
      "text/plain": [
       "   Unnamed: 0  all star  death date  death year  experience  first year  \\\n",
       "0           0         0  1919-04-28        1919           1        1880   \n",
       "1           1         0  1919-07-24        1919           2        1884   \n",
       "2           2         0  1919-03-24        1919           1        1889   \n",
       "3           3         0  1919-10-14        1919           6        1894   \n",
       "4           4         0  1919-08-21        1919           7        1886   \n",
       "\n",
       "   games  last year                        link         name  \n",
       "0      1       1880  /players/a/ahearch01.shtml  Bill Ahearn  \n",
       "1     48       1885  /players/b/begleed01.shtml    Ed Bagley  \n",
       "2      1       1889  /players/b/batesjo01.shtml   John Bates  \n",
       "3    527       1899  /players/b/blakeha01.shtml  Harry Blake  \n",
       "4    288       1893  /players/c/clarkbo01.shtml    Bob Clark  "
      ]
     },
     "execution_count": 5,
     "metadata": {},
     "output_type": "execute_result"
    }
   ],
   "source": [
    "deceased_baseball_df.head()"
   ]
  },
  {
   "cell_type": "markdown",
   "metadata": {},
   "source": [
    "### Merge DataFrames\n",
    "Need to match birth and deaths, and then compute ages"
   ]
  },
  {
   "cell_type": "code",
   "execution_count": 6,
   "metadata": {},
   "outputs": [],
   "source": [
    "baseball_merged = pd.merge(all_baseball_df,\n",
    "                          deceased_baseball_df[['death date', 'death year', 'link']],\n",
    "                          how='outer',\n",
    "                          on='link')"
   ]
  },
  {
   "cell_type": "code",
   "execution_count": 7,
   "metadata": {},
   "outputs": [
    {
     "data": {
      "text/html": [
       "<div>\n",
       "<style scoped>\n",
       "    .dataframe tbody tr th:only-of-type {\n",
       "        vertical-align: middle;\n",
       "    }\n",
       "\n",
       "    .dataframe tbody tr th {\n",
       "        vertical-align: top;\n",
       "    }\n",
       "\n",
       "    .dataframe thead th {\n",
       "        text-align: right;\n",
       "    }\n",
       "</style>\n",
       "<table border=\"1\" class=\"dataframe\">\n",
       "  <thead>\n",
       "    <tr style=\"text-align: right;\">\n",
       "      <th></th>\n",
       "      <th>Unnamed: 0</th>\n",
       "      <th>all star</th>\n",
       "      <th>birth city</th>\n",
       "      <th>birth date</th>\n",
       "      <th>birth year</th>\n",
       "      <th>experience</th>\n",
       "      <th>first year</th>\n",
       "      <th>games</th>\n",
       "      <th>last year</th>\n",
       "      <th>link</th>\n",
       "      <th>name</th>\n",
       "      <th>death date</th>\n",
       "      <th>death year</th>\n",
       "    </tr>\n",
       "  </thead>\n",
       "  <tbody>\n",
       "    <tr>\n",
       "      <th>0</th>\n",
       "      <td>0.0</td>\n",
       "      <td>0.0</td>\n",
       "      <td>United States, MD, Baltimore</td>\n",
       "      <td>1900-06-03</td>\n",
       "      <td>1900.0</td>\n",
       "      <td>2.0</td>\n",
       "      <td>1924.0</td>\n",
       "      <td>12.0</td>\n",
       "      <td>1925.0</td>\n",
       "      <td>/players/b/baldwha01.shtml</td>\n",
       "      <td>Harry Baldwin</td>\n",
       "      <td>1958-01-23</td>\n",
       "      <td>1958.0</td>\n",
       "    </tr>\n",
       "    <tr>\n",
       "      <th>1</th>\n",
       "      <td>1.0</td>\n",
       "      <td>0.0</td>\n",
       "      <td>United States, CO, Russell Gulch</td>\n",
       "      <td>1900-06-12</td>\n",
       "      <td>1900.0</td>\n",
       "      <td>2.0</td>\n",
       "      <td>1927.0</td>\n",
       "      <td>29.0</td>\n",
       "      <td>1928.0</td>\n",
       "      <td>/players/b/barnach01.shtml</td>\n",
       "      <td>Charlie Barnabe</td>\n",
       "      <td>1977-08-16</td>\n",
       "      <td>1977.0</td>\n",
       "    </tr>\n",
       "    <tr>\n",
       "      <th>2</th>\n",
       "      <td>2.0</td>\n",
       "      <td>0.0</td>\n",
       "      <td>United States, NY, Ossining</td>\n",
       "      <td>1900-12-01</td>\n",
       "      <td>1900.0</td>\n",
       "      <td>2.0</td>\n",
       "      <td>1923.0</td>\n",
       "      <td>4.0</td>\n",
       "      <td>1924.0</td>\n",
       "      <td>/players/b/barneep01.shtml</td>\n",
       "      <td>Eppie Barnes</td>\n",
       "      <td>1980-11-17</td>\n",
       "      <td>1980.0</td>\n",
       "    </tr>\n",
       "    <tr>\n",
       "      <th>3</th>\n",
       "      <td>3.0</td>\n",
       "      <td>0.0</td>\n",
       "      <td>United States, TX, Dallas</td>\n",
       "      <td>1900-01-09</td>\n",
       "      <td>1900.0</td>\n",
       "      <td>2.0</td>\n",
       "      <td>1929.0</td>\n",
       "      <td>7.0</td>\n",
       "      <td>1930.0</td>\n",
       "      <td>/players/b/barnefr01.shtml</td>\n",
       "      <td>Frank Barnes</td>\n",
       "      <td>1967-09-27</td>\n",
       "      <td>1967.0</td>\n",
       "    </tr>\n",
       "    <tr>\n",
       "      <th>4</th>\n",
       "      <td>4.0</td>\n",
       "      <td>0.0</td>\n",
       "      <td>United States, NY, Fulton</td>\n",
       "      <td>1900-01-31</td>\n",
       "      <td>1900.0</td>\n",
       "      <td>1.0</td>\n",
       "      <td>1926.0</td>\n",
       "      <td>1.0</td>\n",
       "      <td>1926.0</td>\n",
       "      <td>/players/b/barneho01.shtml</td>\n",
       "      <td>Honey Barnes</td>\n",
       "      <td>1981-06-18</td>\n",
       "      <td>1981.0</td>\n",
       "    </tr>\n",
       "  </tbody>\n",
       "</table>\n",
       "</div>"
      ],
      "text/plain": [
       "   Unnamed: 0  all star                        birth city  birth date  \\\n",
       "0         0.0       0.0      United States, MD, Baltimore  1900-06-03   \n",
       "1         1.0       0.0  United States, CO, Russell Gulch  1900-06-12   \n",
       "2         2.0       0.0       United States, NY, Ossining  1900-12-01   \n",
       "3         3.0       0.0         United States, TX, Dallas  1900-01-09   \n",
       "4         4.0       0.0         United States, NY, Fulton  1900-01-31   \n",
       "\n",
       "   birth year  experience  first year  games  last year  \\\n",
       "0      1900.0         2.0      1924.0   12.0     1925.0   \n",
       "1      1900.0         2.0      1927.0   29.0     1928.0   \n",
       "2      1900.0         2.0      1923.0    4.0     1924.0   \n",
       "3      1900.0         2.0      1929.0    7.0     1930.0   \n",
       "4      1900.0         1.0      1926.0    1.0     1926.0   \n",
       "\n",
       "                         link             name  death date  death year  \n",
       "0  /players/b/baldwha01.shtml    Harry Baldwin  1958-01-23      1958.0  \n",
       "1  /players/b/barnach01.shtml  Charlie Barnabe  1977-08-16      1977.0  \n",
       "2  /players/b/barneep01.shtml     Eppie Barnes  1980-11-17      1980.0  \n",
       "3  /players/b/barnefr01.shtml     Frank Barnes  1967-09-27      1967.0  \n",
       "4  /players/b/barneho01.shtml     Honey Barnes  1981-06-18      1981.0  "
      ]
     },
     "execution_count": 7,
     "metadata": {},
     "output_type": "execute_result"
    }
   ],
   "source": [
    "baseball_merged.head()"
   ]
  },
  {
   "cell_type": "code",
   "execution_count": 8,
   "metadata": {},
   "outputs": [],
   "source": [
    "# Quick and dirty computation of age\n",
    "baseball_merged['approx age'] = baseball_merged['death year'] - baseball_merged['birth year']"
   ]
  },
  {
   "cell_type": "markdown",
   "metadata": {},
   "source": [
    "### Group baseball players by year of birth and death "
   ]
  },
  {
   "cell_type": "code",
   "execution_count": 9,
   "metadata": {},
   "outputs": [],
   "source": [
    "baseball_birth_count = baseball_merged.groupby('birth year').count()\n",
    "\n",
    "baseball_death_count = baseball_merged.groupby('death year').count()"
   ]
  },
  {
   "cell_type": "markdown",
   "metadata": {},
   "source": [
    "#### Plot number of baseball players that were born or died in a given year"
   ]
  },
  {
   "cell_type": "code",
   "execution_count": 10,
   "metadata": {},
   "outputs": [
    {
     "data": {
      "text/plain": [
       "<matplotlib.legend.Legend at 0x229630270f0>"
      ]
     },
     "execution_count": 10,
     "metadata": {},
     "output_type": "execute_result"
    },
    {
     "data": {
      "image/png": "[encoded data removed]",
      "text/plain": [
       "<Figure size 432x288 with 1 Axes>"
      ]
     },
     "metadata": {},
     "output_type": "display_data"
    }
   ],
   "source": [
    "plt.plot(baseball_birth_count.index, baseball_birth_count['link'], label='births')\n",
    "plt.plot(baseball_death_count.index, baseball_death_count['link'], label='deaths')\n",
    "plt.xlabel('Year')\n",
    "plt.ylabel('Number of Players')\n",
    "plt.legend()"
   ]
  },
  {
   "cell_type": "markdown",
   "metadata": {},
   "source": [
    "### Expected number of deaths of baseball players by year"
   ]
  },
  {
   "cell_type": "code",
   "execution_count": 11,
   "metadata": {},
   "outputs": [],
   "source": [
    "baseball_exp_deaths = {}\n",
    "for year in range(2004, 2016):\n",
    "    try:\n",
    "        ssa = pd.read_csv('./ssa_tables/death_pct_' + str(year) + '.csv')\n",
    "    except:\n",
    "        continue\n",
    "    total = 0\n",
    "    for i in range(1, ssa.shape[0]):\n",
    "        birth_year = year - i\n",
    "        if birth_year in baseball_birth_count.index:\n",
    "            total += ssa.loc[i, 'male death pct'] * baseball_birth_count.loc[birth_year, 'link']\n",
    "    baseball_exp_deaths[year] = total"
   ]
  },
  {
   "cell_type": "code",
   "execution_count": 12,
   "metadata": {},
   "outputs": [
    {
     "data": {
      "text/plain": [
       "{2004: 114.85287000000001,\n",
       " 2005: 115.26373000000001,\n",
       " 2006: 115.60049000000001,\n",
       " 2007: 115.71028000000001,\n",
       " 2009: 115.87184,\n",
       " 2010: 115.77704999999999,\n",
       " 2011: 115.87147000000002,\n",
       " 2013: 116.07978999999997,\n",
       " 2014: 116.41507000000003,\n",
       " 2015: 116.88391999999999}"
      ]
     },
     "execution_count": 12,
     "metadata": {},
     "output_type": "execute_result"
    }
   ],
   "source": [
    "baseball_exp_deaths"
   ]
  },
  {
   "cell_type": "code",
   "execution_count": 45,
   "metadata": {},
   "outputs": [
    {
     "data": {
      "text/plain": [
       "<matplotlib.legend.Legend at 0x22963b593c8>"
      ]
     },
     "execution_count": 45,
     "metadata": {},
     "output_type": "execute_result"
    },
    {
     "data": {
      "image/png": "[encoded data removed]",
      "text/plain": [
       "<Figure size 432x288 with 1 Axes>"
      ]
     },
     "metadata": {},
     "output_type": "display_data"
    }
   ],
   "source": [
    "baseball_exp_deaths_df = pd.DataFrame.from_dict(baseball_exp_deaths, orient='index', columns=['exp deaths'])\n",
    "\n",
    "plt.plot(baseball_death_count.index, baseball_death_count['link'], label='deaths')\n",
    "plt.plot(baseball_exp_deaths_df, label='expected deaths')\n",
    "plt.xlabel('year')\n",
    "plt.ylabel('Number of Players')\n",
    "plt.xlim(2000, 2018)\n",
    "plt.legend()"
   ]
  },
  {
   "cell_type": "markdown",
   "metadata": {},
   "source": [
    "### Comparison of distribution of ages at death of baseball players versus general population in a given year"
   ]
  },
  {
   "cell_type": "code",
   "execution_count": 13,
   "metadata": {},
   "outputs": [],
   "source": [
    "us_live_births = pd.read_csv('./NCHS_-_Births_and_General_Fertility_Rates__United_States.csv')\n",
    "\n",
    "us_live_births.set_index(['Year'], inplace=True)"
   ]
  },
  {
   "cell_type": "code",
   "execution_count": 14,
   "metadata": {},
   "outputs": [
    {
     "name": "stdout",
     "output_type": "stream",
     "text": [
      "2004 0.0019696468230519554\n",
      "2005 0.0026480760084752653\n",
      "2006 0.004987633264081081\n",
      "2007 0.022734103809303484\n",
      "2009 0.11161286683317276\n",
      "2010 0.040211181640993965\n",
      "2011 0.04589239116701307\n",
      "2013 0.005207767420913189\n",
      "2014 0.01418877303039066\n",
      "2015 0.15648116997518477\n"
     ]
    }
   ],
   "source": [
    "for year in range(2004, 2016):\n",
    "    try:\n",
    "        death_pct = pd.read_csv('./ssa_tables/death_pct_' + str(year) + '.csv')\n",
    "    except:\n",
    "        continue\n",
    "    us_est_deaths = [death_pct.loc[year-i+1, 'male death pct'] * us_live_births.loc[i, 'Birth Number'] \n",
    "                     for i in us_live_births.index if i <= year]\n",
    "    probs = us_est_deaths[18:] / sum(us_est_deaths[18:])\n",
    "    ages = len(us_est_deaths[18:])\n",
    "    result = stats.ttest_ind(np.random.choice(range(18, 18+ages), 10000, replace=True, p=probs),\n",
    "                             baseball_merged[baseball_merged['death year'] == year]['approx age'])\n",
    "    print(year, result.pvalue)"
   ]
  },
  {
   "cell_type": "code",
   "execution_count": 15,
   "metadata": {},
   "outputs": [
    {
     "data": {
      "text/plain": [
       "(array([ 2.,  2.,  2.,  5.,  6.,  7., 15., 23., 17.,  7.]),\n",
       " array([ 37. ,  43.3,  49.6,  55.9,  62.2,  68.5,  74.8,  81.1,  87.4,\n",
       "         93.7, 100. ]),\n",
       " <a list of 10 Patch objects>)"
      ]
     },
     "execution_count": 15,
     "metadata": {},
     "output_type": "execute_result"
    },
    {
     "data": {
      "image/png": "[encoded data removed]",
      "text/plain": [
       "<Figure size 432x288 with 1 Axes>"
      ]
     },
     "metadata": {},
     "output_type": "display_data"
    }
   ],
   "source": [
    "plt.hist(baseball_merged[baseball_merged['death year'] == 2004]['approx age'])"
   ]
  },
  {
   "cell_type": "markdown",
   "metadata": {},
   "source": [
    "### What percentage of baseball players born in a given year are now deceased?"
   ]
  },
  {
   "cell_type": "code",
   "execution_count": 16,
   "metadata": {},
   "outputs": [
    {
     "data": {
      "text/plain": [
       "[<matplotlib.lines.Line2D at 0x22963195fd0>]"
      ]
     },
     "execution_count": 16,
     "metadata": {},
     "output_type": "execute_result"
    },
    {
     "data": {
      "image/png": "[encoded data removed]",
      "text/plain": [
       "<Figure size 432x288 with 1 Axes>"
      ]
     },
     "metadata": {},
     "output_type": "display_data"
    }
   ],
   "source": [
    "baseball_merged_counts = baseball_merged.groupby('birth year').count()\n",
    "\n",
    "baseball_merged_counts.columns\n",
    "\n",
    "baseball_merged_counts['pct deaths recorded'] = baseball_merged_counts['death year'] / baseball_merged_counts['link']\n",
    "\n",
    "plt.plot(baseball_merged_counts['pct deaths recorded'])"
   ]
  },
  {
   "cell_type": "code",
   "execution_count": 17,
   "metadata": {
    "scrolled": true
   },
   "outputs": [
    {
     "data": {
      "text/html": [
       "<div>\n",
       "<style scoped>\n",
       "    .dataframe tbody tr th:only-of-type {\n",
       "        vertical-align: middle;\n",
       "    }\n",
       "\n",
       "    .dataframe tbody tr th {\n",
       "        vertical-align: top;\n",
       "    }\n",
       "\n",
       "    .dataframe thead th {\n",
       "        text-align: right;\n",
       "    }\n",
       "</style>\n",
       "<table border=\"1\" class=\"dataframe\">\n",
       "  <thead>\n",
       "    <tr style=\"text-align: right;\">\n",
       "      <th></th>\n",
       "      <th>link</th>\n",
       "      <th>death year</th>\n",
       "      <th>pct deaths recorded</th>\n",
       "    </tr>\n",
       "    <tr>\n",
       "      <th>birth year</th>\n",
       "      <th></th>\n",
       "      <th></th>\n",
       "      <th></th>\n",
       "    </tr>\n",
       "  </thead>\n",
       "  <tbody>\n",
       "    <tr>\n",
       "      <th>1920.0</th>\n",
       "      <td>106</td>\n",
       "      <td>103</td>\n",
       "      <td>0.971698</td>\n",
       "    </tr>\n",
       "    <tr>\n",
       "      <th>1921.0</th>\n",
       "      <td>112</td>\n",
       "      <td>110</td>\n",
       "      <td>0.982143</td>\n",
       "    </tr>\n",
       "    <tr>\n",
       "      <th>1922.0</th>\n",
       "      <td>107</td>\n",
       "      <td>102</td>\n",
       "      <td>0.953271</td>\n",
       "    </tr>\n",
       "    <tr>\n",
       "      <th>1923.0</th>\n",
       "      <td>80</td>\n",
       "      <td>79</td>\n",
       "      <td>0.987500</td>\n",
       "    </tr>\n",
       "    <tr>\n",
       "      <th>1924.0</th>\n",
       "      <td>108</td>\n",
       "      <td>99</td>\n",
       "      <td>0.916667</td>\n",
       "    </tr>\n",
       "    <tr>\n",
       "      <th>1925.0</th>\n",
       "      <td>93</td>\n",
       "      <td>85</td>\n",
       "      <td>0.913978</td>\n",
       "    </tr>\n",
       "    <tr>\n",
       "      <th>1926.0</th>\n",
       "      <td>104</td>\n",
       "      <td>86</td>\n",
       "      <td>0.826923</td>\n",
       "    </tr>\n",
       "    <tr>\n",
       "      <th>1927.0</th>\n",
       "      <td>101</td>\n",
       "      <td>86</td>\n",
       "      <td>0.851485</td>\n",
       "    </tr>\n",
       "    <tr>\n",
       "      <th>1928.0</th>\n",
       "      <td>108</td>\n",
       "      <td>89</td>\n",
       "      <td>0.824074</td>\n",
       "    </tr>\n",
       "    <tr>\n",
       "      <th>1929.0</th>\n",
       "      <td>94</td>\n",
       "      <td>72</td>\n",
       "      <td>0.765957</td>\n",
       "    </tr>\n",
       "    <tr>\n",
       "      <th>1930.0</th>\n",
       "      <td>112</td>\n",
       "      <td>81</td>\n",
       "      <td>0.723214</td>\n",
       "    </tr>\n",
       "    <tr>\n",
       "      <th>1931.0</th>\n",
       "      <td>111</td>\n",
       "      <td>75</td>\n",
       "      <td>0.675676</td>\n",
       "    </tr>\n",
       "    <tr>\n",
       "      <th>1932.0</th>\n",
       "      <td>71</td>\n",
       "      <td>41</td>\n",
       "      <td>0.577465</td>\n",
       "    </tr>\n",
       "    <tr>\n",
       "      <th>1933.0</th>\n",
       "      <td>89</td>\n",
       "      <td>49</td>\n",
       "      <td>0.550562</td>\n",
       "    </tr>\n",
       "    <tr>\n",
       "      <th>1934.0</th>\n",
       "      <td>90</td>\n",
       "      <td>45</td>\n",
       "      <td>0.500000</td>\n",
       "    </tr>\n",
       "    <tr>\n",
       "      <th>1935.0</th>\n",
       "      <td>99</td>\n",
       "      <td>45</td>\n",
       "      <td>0.454545</td>\n",
       "    </tr>\n",
       "    <tr>\n",
       "      <th>1936.0</th>\n",
       "      <td>101</td>\n",
       "      <td>47</td>\n",
       "      <td>0.465347</td>\n",
       "    </tr>\n",
       "    <tr>\n",
       "      <th>1937.0</th>\n",
       "      <td>105</td>\n",
       "      <td>42</td>\n",
       "      <td>0.400000</td>\n",
       "    </tr>\n",
       "    <tr>\n",
       "      <th>1938.0</th>\n",
       "      <td>106</td>\n",
       "      <td>44</td>\n",
       "      <td>0.415094</td>\n",
       "    </tr>\n",
       "    <tr>\n",
       "      <th>1939.0</th>\n",
       "      <td>92</td>\n",
       "      <td>38</td>\n",
       "      <td>0.413043</td>\n",
       "    </tr>\n",
       "    <tr>\n",
       "      <th>1940.0</th>\n",
       "      <td>100</td>\n",
       "      <td>32</td>\n",
       "      <td>0.320000</td>\n",
       "    </tr>\n",
       "    <tr>\n",
       "      <th>1941.0</th>\n",
       "      <td>117</td>\n",
       "      <td>29</td>\n",
       "      <td>0.247863</td>\n",
       "    </tr>\n",
       "    <tr>\n",
       "      <th>1942.0</th>\n",
       "      <td>125</td>\n",
       "      <td>32</td>\n",
       "      <td>0.256000</td>\n",
       "    </tr>\n",
       "    <tr>\n",
       "      <th>1943.0</th>\n",
       "      <td>132</td>\n",
       "      <td>40</td>\n",
       "      <td>0.303030</td>\n",
       "    </tr>\n",
       "    <tr>\n",
       "      <th>1944.0</th>\n",
       "      <td>134</td>\n",
       "      <td>33</td>\n",
       "      <td>0.246269</td>\n",
       "    </tr>\n",
       "    <tr>\n",
       "      <th>1945.0</th>\n",
       "      <td>113</td>\n",
       "      <td>26</td>\n",
       "      <td>0.230088</td>\n",
       "    </tr>\n",
       "    <tr>\n",
       "      <th>1946.0</th>\n",
       "      <td>137</td>\n",
       "      <td>25</td>\n",
       "      <td>0.182482</td>\n",
       "    </tr>\n",
       "    <tr>\n",
       "      <th>1947.0</th>\n",
       "      <td>152</td>\n",
       "      <td>31</td>\n",
       "      <td>0.203947</td>\n",
       "    </tr>\n",
       "    <tr>\n",
       "      <th>1948.0</th>\n",
       "      <td>133</td>\n",
       "      <td>18</td>\n",
       "      <td>0.135338</td>\n",
       "    </tr>\n",
       "    <tr>\n",
       "      <th>1949.0</th>\n",
       "      <td>134</td>\n",
       "      <td>24</td>\n",
       "      <td>0.179104</td>\n",
       "    </tr>\n",
       "    <tr>\n",
       "      <th>1950.0</th>\n",
       "      <td>132</td>\n",
       "      <td>10</td>\n",
       "      <td>0.075758</td>\n",
       "    </tr>\n",
       "    <tr>\n",
       "      <th>1951.0</th>\n",
       "      <td>136</td>\n",
       "      <td>11</td>\n",
       "      <td>0.080882</td>\n",
       "    </tr>\n",
       "    <tr>\n",
       "      <th>1952.0</th>\n",
       "      <td>146</td>\n",
       "      <td>16</td>\n",
       "      <td>0.109589</td>\n",
       "    </tr>\n",
       "    <tr>\n",
       "      <th>1953.0</th>\n",
       "      <td>158</td>\n",
       "      <td>23</td>\n",
       "      <td>0.145570</td>\n",
       "    </tr>\n",
       "    <tr>\n",
       "      <th>1954.0</th>\n",
       "      <td>154</td>\n",
       "      <td>12</td>\n",
       "      <td>0.077922</td>\n",
       "    </tr>\n",
       "    <tr>\n",
       "      <th>1955.0</th>\n",
       "      <td>146</td>\n",
       "      <td>8</td>\n",
       "      <td>0.054795</td>\n",
       "    </tr>\n",
       "    <tr>\n",
       "      <th>1956.0</th>\n",
       "      <td>164</td>\n",
       "      <td>5</td>\n",
       "      <td>0.030488</td>\n",
       "    </tr>\n",
       "    <tr>\n",
       "      <th>1957.0</th>\n",
       "      <td>147</td>\n",
       "      <td>9</td>\n",
       "      <td>0.061224</td>\n",
       "    </tr>\n",
       "    <tr>\n",
       "      <th>1958.0</th>\n",
       "      <td>151</td>\n",
       "      <td>11</td>\n",
       "      <td>0.072848</td>\n",
       "    </tr>\n",
       "    <tr>\n",
       "      <th>1959.0</th>\n",
       "      <td>145</td>\n",
       "      <td>9</td>\n",
       "      <td>0.062069</td>\n",
       "    </tr>\n",
       "    <tr>\n",
       "      <th>1960.0</th>\n",
       "      <td>188</td>\n",
       "      <td>5</td>\n",
       "      <td>0.026596</td>\n",
       "    </tr>\n",
       "  </tbody>\n",
       "</table>\n",
       "</div>"
      ],
      "text/plain": [
       "            link  death year  pct deaths recorded\n",
       "birth year                                       \n",
       "1920.0       106         103             0.971698\n",
       "1921.0       112         110             0.982143\n",
       "1922.0       107         102             0.953271\n",
       "1923.0        80          79             0.987500\n",
       "1924.0       108          99             0.916667\n",
       "1925.0        93          85             0.913978\n",
       "1926.0       104          86             0.826923\n",
       "1927.0       101          86             0.851485\n",
       "1928.0       108          89             0.824074\n",
       "1929.0        94          72             0.765957\n",
       "1930.0       112          81             0.723214\n",
       "1931.0       111          75             0.675676\n",
       "1932.0        71          41             0.577465\n",
       "1933.0        89          49             0.550562\n",
       "1934.0        90          45             0.500000\n",
       "1935.0        99          45             0.454545\n",
       "1936.0       101          47             0.465347\n",
       "1937.0       105          42             0.400000\n",
       "1938.0       106          44             0.415094\n",
       "1939.0        92          38             0.413043\n",
       "1940.0       100          32             0.320000\n",
       "1941.0       117          29             0.247863\n",
       "1942.0       125          32             0.256000\n",
       "1943.0       132          40             0.303030\n",
       "1944.0       134          33             0.246269\n",
       "1945.0       113          26             0.230088\n",
       "1946.0       137          25             0.182482\n",
       "1947.0       152          31             0.203947\n",
       "1948.0       133          18             0.135338\n",
       "1949.0       134          24             0.179104\n",
       "1950.0       132          10             0.075758\n",
       "1951.0       136          11             0.080882\n",
       "1952.0       146          16             0.109589\n",
       "1953.0       158          23             0.145570\n",
       "1954.0       154          12             0.077922\n",
       "1955.0       146           8             0.054795\n",
       "1956.0       164           5             0.030488\n",
       "1957.0       147           9             0.061224\n",
       "1958.0       151          11             0.072848\n",
       "1959.0       145           9             0.062069\n",
       "1960.0       188           5             0.026596"
      ]
     },
     "execution_count": 17,
     "metadata": {},
     "output_type": "execute_result"
    }
   ],
   "source": [
    "baseball_merged_counts.loc[1920:1960, ['link', 'death year', 'pct deaths recorded']]"
   ]
  },
  {
   "cell_type": "markdown",
   "metadata": {},
   "source": [
    "### Average age at death of players who died in a particular year"
   ]
  },
  {
   "cell_type": "code",
   "execution_count": 32,
   "metadata": {
    "scrolled": true
   },
   "outputs": [
    {
     "data": {
      "text/html": [
       "<div>\n",
       "<style scoped>\n",
       "    .dataframe tbody tr th:only-of-type {\n",
       "        vertical-align: middle;\n",
       "    }\n",
       "\n",
       "    .dataframe tbody tr th {\n",
       "        vertical-align: top;\n",
       "    }\n",
       "\n",
       "    .dataframe thead th {\n",
       "        text-align: right;\n",
       "    }\n",
       "</style>\n",
       "<table border=\"1\" class=\"dataframe\">\n",
       "  <thead>\n",
       "    <tr style=\"text-align: right;\">\n",
       "      <th></th>\n",
       "      <th>Unnamed: 0</th>\n",
       "      <th>all star</th>\n",
       "      <th>birth year</th>\n",
       "      <th>experience</th>\n",
       "      <th>first year</th>\n",
       "      <th>games</th>\n",
       "      <th>last year</th>\n",
       "      <th>approx age</th>\n",
       "    </tr>\n",
       "    <tr>\n",
       "      <th>death year</th>\n",
       "      <th></th>\n",
       "      <th></th>\n",
       "      <th></th>\n",
       "      <th></th>\n",
       "      <th></th>\n",
       "      <th></th>\n",
       "      <th></th>\n",
       "      <th></th>\n",
       "    </tr>\n",
       "  </thead>\n",
       "  <tbody>\n",
       "    <tr>\n",
       "      <th>1919.0</th>\n",
       "      <td>NaN</td>\n",
       "      <td>NaN</td>\n",
       "      <td>NaN</td>\n",
       "      <td>NaN</td>\n",
       "      <td>NaN</td>\n",
       "      <td>NaN</td>\n",
       "      <td>NaN</td>\n",
       "      <td>NaN</td>\n",
       "    </tr>\n",
       "    <tr>\n",
       "      <th>1920.0</th>\n",
       "      <td>NaN</td>\n",
       "      <td>NaN</td>\n",
       "      <td>NaN</td>\n",
       "      <td>NaN</td>\n",
       "      <td>NaN</td>\n",
       "      <td>NaN</td>\n",
       "      <td>NaN</td>\n",
       "      <td>NaN</td>\n",
       "    </tr>\n",
       "    <tr>\n",
       "      <th>1921.0</th>\n",
       "      <td>NaN</td>\n",
       "      <td>NaN</td>\n",
       "      <td>NaN</td>\n",
       "      <td>NaN</td>\n",
       "      <td>NaN</td>\n",
       "      <td>NaN</td>\n",
       "      <td>NaN</td>\n",
       "      <td>NaN</td>\n",
       "    </tr>\n",
       "    <tr>\n",
       "      <th>1922.0</th>\n",
       "      <td>NaN</td>\n",
       "      <td>NaN</td>\n",
       "      <td>NaN</td>\n",
       "      <td>NaN</td>\n",
       "      <td>NaN</td>\n",
       "      <td>NaN</td>\n",
       "      <td>NaN</td>\n",
       "      <td>NaN</td>\n",
       "    </tr>\n",
       "    <tr>\n",
       "      <th>1923.0</th>\n",
       "      <td>NaN</td>\n",
       "      <td>NaN</td>\n",
       "      <td>NaN</td>\n",
       "      <td>NaN</td>\n",
       "      <td>NaN</td>\n",
       "      <td>NaN</td>\n",
       "      <td>NaN</td>\n",
       "      <td>NaN</td>\n",
       "    </tr>\n",
       "    <tr>\n",
       "      <th>1924.0</th>\n",
       "      <td>NaN</td>\n",
       "      <td>NaN</td>\n",
       "      <td>NaN</td>\n",
       "      <td>NaN</td>\n",
       "      <td>NaN</td>\n",
       "      <td>NaN</td>\n",
       "      <td>NaN</td>\n",
       "      <td>NaN</td>\n",
       "    </tr>\n",
       "    <tr>\n",
       "      <th>1925.0</th>\n",
       "      <td>NaN</td>\n",
       "      <td>NaN</td>\n",
       "      <td>NaN</td>\n",
       "      <td>NaN</td>\n",
       "      <td>NaN</td>\n",
       "      <td>NaN</td>\n",
       "      <td>NaN</td>\n",
       "      <td>NaN</td>\n",
       "    </tr>\n",
       "    <tr>\n",
       "      <th>1926.0</th>\n",
       "      <td>NaN</td>\n",
       "      <td>NaN</td>\n",
       "      <td>NaN</td>\n",
       "      <td>NaN</td>\n",
       "      <td>NaN</td>\n",
       "      <td>NaN</td>\n",
       "      <td>NaN</td>\n",
       "      <td>NaN</td>\n",
       "    </tr>\n",
       "    <tr>\n",
       "      <th>1927.0</th>\n",
       "      <td>76.000000</td>\n",
       "      <td>0.000000</td>\n",
       "      <td>1900.000000</td>\n",
       "      <td>1.000000</td>\n",
       "      <td>1921.000000</td>\n",
       "      <td>20.000000</td>\n",
       "      <td>1921.000000</td>\n",
       "      <td>27.000000</td>\n",
       "    </tr>\n",
       "    <tr>\n",
       "      <th>1928.0</th>\n",
       "      <td>177.000000</td>\n",
       "      <td>0.000000</td>\n",
       "      <td>1901.000000</td>\n",
       "      <td>1.500000</td>\n",
       "      <td>1922.500000</td>\n",
       "      <td>17.500000</td>\n",
       "      <td>1923.500000</td>\n",
       "      <td>27.000000</td>\n",
       "    </tr>\n",
       "    <tr>\n",
       "      <th>1929.0</th>\n",
       "      <td>237.000000</td>\n",
       "      <td>0.000000</td>\n",
       "      <td>1901.500000</td>\n",
       "      <td>2.500000</td>\n",
       "      <td>1925.500000</td>\n",
       "      <td>121.500000</td>\n",
       "      <td>1927.500000</td>\n",
       "      <td>27.500000</td>\n",
       "    </tr>\n",
       "    <tr>\n",
       "      <th>1930.0</th>\n",
       "      <td>265.000000</td>\n",
       "      <td>0.000000</td>\n",
       "      <td>1902.000000</td>\n",
       "      <td>4.000000</td>\n",
       "      <td>1924.000000</td>\n",
       "      <td>127.000000</td>\n",
       "      <td>1927.000000</td>\n",
       "      <td>28.000000</td>\n",
       "    </tr>\n",
       "    <tr>\n",
       "      <th>1931.0</th>\n",
       "      <td>NaN</td>\n",
       "      <td>NaN</td>\n",
       "      <td>NaN</td>\n",
       "      <td>NaN</td>\n",
       "      <td>NaN</td>\n",
       "      <td>NaN</td>\n",
       "      <td>NaN</td>\n",
       "      <td>NaN</td>\n",
       "    </tr>\n",
       "    <tr>\n",
       "      <th>1932.0</th>\n",
       "      <td>274.000000</td>\n",
       "      <td>0.000000</td>\n",
       "      <td>1902.000000</td>\n",
       "      <td>7.000000</td>\n",
       "      <td>1922.000000</td>\n",
       "      <td>579.000000</td>\n",
       "      <td>1928.000000</td>\n",
       "      <td>30.000000</td>\n",
       "    </tr>\n",
       "    <tr>\n",
       "      <th>1933.0</th>\n",
       "      <td>487.000000</td>\n",
       "      <td>0.000000</td>\n",
       "      <td>1904.000000</td>\n",
       "      <td>4.000000</td>\n",
       "      <td>1930.000000</td>\n",
       "      <td>321.000000</td>\n",
       "      <td>1933.000000</td>\n",
       "      <td>29.000000</td>\n",
       "    </tr>\n",
       "    <tr>\n",
       "      <th>1934.0</th>\n",
       "      <td>276.000000</td>\n",
       "      <td>0.000000</td>\n",
       "      <td>1902.000000</td>\n",
       "      <td>1.000000</td>\n",
       "      <td>1925.500000</td>\n",
       "      <td>2.000000</td>\n",
       "      <td>1925.500000</td>\n",
       "      <td>32.000000</td>\n",
       "    </tr>\n",
       "    <tr>\n",
       "      <th>1935.0</th>\n",
       "      <td>605.333333</td>\n",
       "      <td>0.000000</td>\n",
       "      <td>1904.666667</td>\n",
       "      <td>2.333333</td>\n",
       "      <td>1930.000000</td>\n",
       "      <td>115.000000</td>\n",
       "      <td>1932.000000</td>\n",
       "      <td>30.333333</td>\n",
       "    </tr>\n",
       "    <tr>\n",
       "      <th>1936.0</th>\n",
       "      <td>186.000000</td>\n",
       "      <td>0.000000</td>\n",
       "      <td>1901.000000</td>\n",
       "      <td>1.000000</td>\n",
       "      <td>1921.000000</td>\n",
       "      <td>1.000000</td>\n",
       "      <td>1921.000000</td>\n",
       "      <td>35.000000</td>\n",
       "    </tr>\n",
       "    <tr>\n",
       "      <th>1937.0</th>\n",
       "      <td>705.125000</td>\n",
       "      <td>0.000000</td>\n",
       "      <td>1905.875000</td>\n",
       "      <td>2.875000</td>\n",
       "      <td>1928.625000</td>\n",
       "      <td>58.750000</td>\n",
       "      <td>1931.375000</td>\n",
       "      <td>31.125000</td>\n",
       "    </tr>\n",
       "    <tr>\n",
       "      <th>1938.0</th>\n",
       "      <td>807.000000</td>\n",
       "      <td>0.000000</td>\n",
       "      <td>1907.000000</td>\n",
       "      <td>8.000000</td>\n",
       "      <td>1927.000000</td>\n",
       "      <td>293.000000</td>\n",
       "      <td>1934.000000</td>\n",
       "      <td>31.000000</td>\n",
       "    </tr>\n",
       "    <tr>\n",
       "      <th>1939.0</th>\n",
       "      <td>565.000000</td>\n",
       "      <td>0.000000</td>\n",
       "      <td>1905.000000</td>\n",
       "      <td>4.000000</td>\n",
       "      <td>1928.000000</td>\n",
       "      <td>87.000000</td>\n",
       "      <td>1936.000000</td>\n",
       "      <td>34.000000</td>\n",
       "    </tr>\n",
       "    <tr>\n",
       "      <th>1940.0</th>\n",
       "      <td>741.666667</td>\n",
       "      <td>0.000000</td>\n",
       "      <td>1906.000000</td>\n",
       "      <td>4.666667</td>\n",
       "      <td>1930.333333</td>\n",
       "      <td>123.000000</td>\n",
       "      <td>1934.666667</td>\n",
       "      <td>34.000000</td>\n",
       "    </tr>\n",
       "    <tr>\n",
       "      <th>1941.0</th>\n",
       "      <td>370.000000</td>\n",
       "      <td>7.000000</td>\n",
       "      <td>1903.000000</td>\n",
       "      <td>17.000000</td>\n",
       "      <td>1923.000000</td>\n",
       "      <td>2164.000000</td>\n",
       "      <td>1939.000000</td>\n",
       "      <td>38.000000</td>\n",
       "    </tr>\n",
       "    <tr>\n",
       "      <th>1942.0</th>\n",
       "      <td>1075.000000</td>\n",
       "      <td>0.000000</td>\n",
       "      <td>1909.000000</td>\n",
       "      <td>2.250000</td>\n",
       "      <td>1932.000000</td>\n",
       "      <td>69.250000</td>\n",
       "      <td>1933.750000</td>\n",
       "      <td>33.000000</td>\n",
       "    </tr>\n",
       "    <tr>\n",
       "      <th>1943.0</th>\n",
       "      <td>298.000000</td>\n",
       "      <td>0.000000</td>\n",
       "      <td>1902.000000</td>\n",
       "      <td>10.000000</td>\n",
       "      <td>1928.000000</td>\n",
       "      <td>357.000000</td>\n",
       "      <td>1937.000000</td>\n",
       "      <td>41.000000</td>\n",
       "    </tr>\n",
       "    <tr>\n",
       "      <th>1944.0</th>\n",
       "      <td>946.800000</td>\n",
       "      <td>0.000000</td>\n",
       "      <td>1908.200000</td>\n",
       "      <td>3.400000</td>\n",
       "      <td>1929.400000</td>\n",
       "      <td>84.600000</td>\n",
       "      <td>1931.800000</td>\n",
       "      <td>35.800000</td>\n",
       "    </tr>\n",
       "    <tr>\n",
       "      <th>1945.0</th>\n",
       "      <td>1005.200000</td>\n",
       "      <td>0.400000</td>\n",
       "      <td>1908.800000</td>\n",
       "      <td>5.400000</td>\n",
       "      <td>1933.200000</td>\n",
       "      <td>171.400000</td>\n",
       "      <td>1938.400000</td>\n",
       "      <td>36.200000</td>\n",
       "    </tr>\n",
       "    <tr>\n",
       "      <th>1946.0</th>\n",
       "      <td>573.000000</td>\n",
       "      <td>0.090909</td>\n",
       "      <td>1904.727273</td>\n",
       "      <td>4.727273</td>\n",
       "      <td>1929.090909</td>\n",
       "      <td>313.636364</td>\n",
       "      <td>1933.545455</td>\n",
       "      <td>41.272727</td>\n",
       "    </tr>\n",
       "    <tr>\n",
       "      <th>1947.0</th>\n",
       "      <td>695.428571</td>\n",
       "      <td>0.285714</td>\n",
       "      <td>1905.714286</td>\n",
       "      <td>4.857143</td>\n",
       "      <td>1929.285714</td>\n",
       "      <td>276.571429</td>\n",
       "      <td>1933.285714</td>\n",
       "      <td>41.285714</td>\n",
       "    </tr>\n",
       "    <tr>\n",
       "      <th>1948.0</th>\n",
       "      <td>510.500000</td>\n",
       "      <td>0.000000</td>\n",
       "      <td>1904.000000</td>\n",
       "      <td>9.250000</td>\n",
       "      <td>1926.500000</td>\n",
       "      <td>637.500000</td>\n",
       "      <td>1939.250000</td>\n",
       "      <td>44.000000</td>\n",
       "    </tr>\n",
       "    <tr>\n",
       "      <th>...</th>\n",
       "      <td>...</td>\n",
       "      <td>...</td>\n",
       "      <td>...</td>\n",
       "      <td>...</td>\n",
       "      <td>...</td>\n",
       "      <td>...</td>\n",
       "      <td>...</td>\n",
       "      <td>...</td>\n",
       "    </tr>\n",
       "    <tr>\n",
       "      <th>1989.0</th>\n",
       "      <td>2040.074627</td>\n",
       "      <td>0.358209</td>\n",
       "      <td>1917.791045</td>\n",
       "      <td>4.910448</td>\n",
       "      <td>1942.731343</td>\n",
       "      <td>255.567164</td>\n",
       "      <td>1947.447761</td>\n",
       "      <td>71.208955</td>\n",
       "    </tr>\n",
       "    <tr>\n",
       "      <th>1990.0</th>\n",
       "      <td>1970.594203</td>\n",
       "      <td>0.507246</td>\n",
       "      <td>1917.318841</td>\n",
       "      <td>5.347826</td>\n",
       "      <td>1941.521739</td>\n",
       "      <td>297.289855</td>\n",
       "      <td>1946.971014</td>\n",
       "      <td>72.681159</td>\n",
       "    </tr>\n",
       "    <tr>\n",
       "      <th>1991.0</th>\n",
       "      <td>2014.213483</td>\n",
       "      <td>0.651685</td>\n",
       "      <td>1917.696629</td>\n",
       "      <td>5.258427</td>\n",
       "      <td>1942.000000</td>\n",
       "      <td>326.764045</td>\n",
       "      <td>1947.359551</td>\n",
       "      <td>73.303371</td>\n",
       "    </tr>\n",
       "    <tr>\n",
       "      <th>1992.0</th>\n",
       "      <td>1924.378378</td>\n",
       "      <td>0.256757</td>\n",
       "      <td>1916.756757</td>\n",
       "      <td>4.445946</td>\n",
       "      <td>1941.837838</td>\n",
       "      <td>218.608108</td>\n",
       "      <td>1946.391892</td>\n",
       "      <td>75.243243</td>\n",
       "    </tr>\n",
       "    <tr>\n",
       "      <th>1993.0</th>\n",
       "      <td>2068.596154</td>\n",
       "      <td>0.673077</td>\n",
       "      <td>1917.980769</td>\n",
       "      <td>4.875000</td>\n",
       "      <td>1942.759615</td>\n",
       "      <td>315.201923</td>\n",
       "      <td>1947.490385</td>\n",
       "      <td>75.019231</td>\n",
       "    </tr>\n",
       "    <tr>\n",
       "      <th>1994.0</th>\n",
       "      <td>2038.234694</td>\n",
       "      <td>0.306122</td>\n",
       "      <td>1917.908163</td>\n",
       "      <td>4.724490</td>\n",
       "      <td>1943.357143</td>\n",
       "      <td>239.928571</td>\n",
       "      <td>1948.051020</td>\n",
       "      <td>76.091837</td>\n",
       "    </tr>\n",
       "    <tr>\n",
       "      <th>1995.0</th>\n",
       "      <td>2200.537500</td>\n",
       "      <td>0.700000</td>\n",
       "      <td>1919.212500</td>\n",
       "      <td>5.862500</td>\n",
       "      <td>1944.025000</td>\n",
       "      <td>390.112500</td>\n",
       "      <td>1950.150000</td>\n",
       "      <td>75.787500</td>\n",
       "    </tr>\n",
       "    <tr>\n",
       "      <th>1996.0</th>\n",
       "      <td>2390.050505</td>\n",
       "      <td>0.303030</td>\n",
       "      <td>1921.020202</td>\n",
       "      <td>4.858586</td>\n",
       "      <td>1945.787879</td>\n",
       "      <td>268.696970</td>\n",
       "      <td>1950.757576</td>\n",
       "      <td>74.979798</td>\n",
       "    </tr>\n",
       "    <tr>\n",
       "      <th>1997.0</th>\n",
       "      <td>2154.072917</td>\n",
       "      <td>0.395833</td>\n",
       "      <td>1918.802083</td>\n",
       "      <td>5.114583</td>\n",
       "      <td>1942.906250</td>\n",
       "      <td>284.625000</td>\n",
       "      <td>1947.760417</td>\n",
       "      <td>78.197917</td>\n",
       "    </tr>\n",
       "    <tr>\n",
       "      <th>1998.0</th>\n",
       "      <td>2468.266667</td>\n",
       "      <td>0.226667</td>\n",
       "      <td>1921.760000</td>\n",
       "      <td>4.693333</td>\n",
       "      <td>1947.386667</td>\n",
       "      <td>205.480000</td>\n",
       "      <td>1952.186667</td>\n",
       "      <td>76.240000</td>\n",
       "    </tr>\n",
       "    <tr>\n",
       "      <th>1999.0</th>\n",
       "      <td>2402.397436</td>\n",
       "      <td>0.858974</td>\n",
       "      <td>1920.961538</td>\n",
       "      <td>4.858974</td>\n",
       "      <td>1945.756410</td>\n",
       "      <td>258.794872</td>\n",
       "      <td>1950.807692</td>\n",
       "      <td>78.038462</td>\n",
       "    </tr>\n",
       "    <tr>\n",
       "      <th>2000.0</th>\n",
       "      <td>2448.987179</td>\n",
       "      <td>0.205128</td>\n",
       "      <td>1921.410256</td>\n",
       "      <td>4.474359</td>\n",
       "      <td>1946.628205</td>\n",
       "      <td>225.576923</td>\n",
       "      <td>1951.243590</td>\n",
       "      <td>78.589744</td>\n",
       "    </tr>\n",
       "    <tr>\n",
       "      <th>2001.0</th>\n",
       "      <td>2697.673913</td>\n",
       "      <td>0.521739</td>\n",
       "      <td>1923.554348</td>\n",
       "      <td>4.880435</td>\n",
       "      <td>1948.380435</td>\n",
       "      <td>264.413043</td>\n",
       "      <td>1953.076087</td>\n",
       "      <td>77.445652</td>\n",
       "    </tr>\n",
       "    <tr>\n",
       "      <th>2002.0</th>\n",
       "      <td>2597.897959</td>\n",
       "      <td>0.734694</td>\n",
       "      <td>1922.551020</td>\n",
       "      <td>5.846939</td>\n",
       "      <td>1947.112245</td>\n",
       "      <td>323.112245</td>\n",
       "      <td>1952.806122</td>\n",
       "      <td>79.448980</td>\n",
       "    </tr>\n",
       "    <tr>\n",
       "      <th>2003.0</th>\n",
       "      <td>2987.571429</td>\n",
       "      <td>0.472527</td>\n",
       "      <td>1925.978022</td>\n",
       "      <td>4.307692</td>\n",
       "      <td>1950.439560</td>\n",
       "      <td>209.340659</td>\n",
       "      <td>1954.384615</td>\n",
       "      <td>77.021978</td>\n",
       "    </tr>\n",
       "    <tr>\n",
       "      <th>2004.0</th>\n",
       "      <td>2877.523256</td>\n",
       "      <td>0.302326</td>\n",
       "      <td>1925.290698</td>\n",
       "      <td>5.488372</td>\n",
       "      <td>1949.895349</td>\n",
       "      <td>318.604651</td>\n",
       "      <td>1955.337209</td>\n",
       "      <td>78.709302</td>\n",
       "    </tr>\n",
       "    <tr>\n",
       "      <th>2005.0</th>\n",
       "      <td>2963.240506</td>\n",
       "      <td>0.329114</td>\n",
       "      <td>1926.063291</td>\n",
       "      <td>5.025316</td>\n",
       "      <td>1950.544304</td>\n",
       "      <td>269.784810</td>\n",
       "      <td>1955.417722</td>\n",
       "      <td>78.936709</td>\n",
       "    </tr>\n",
       "    <tr>\n",
       "      <th>2006.0</th>\n",
       "      <td>3118.265957</td>\n",
       "      <td>0.329787</td>\n",
       "      <td>1927.223404</td>\n",
       "      <td>5.712766</td>\n",
       "      <td>1952.085106</td>\n",
       "      <td>333.202128</td>\n",
       "      <td>1957.734043</td>\n",
       "      <td>78.776596</td>\n",
       "    </tr>\n",
       "    <tr>\n",
       "      <th>2007.0</th>\n",
       "      <td>3313.500000</td>\n",
       "      <td>0.387500</td>\n",
       "      <td>1928.675000</td>\n",
       "      <td>5.675000</td>\n",
       "      <td>1953.050000</td>\n",
       "      <td>277.762500</td>\n",
       "      <td>1958.487500</td>\n",
       "      <td>78.325000</td>\n",
       "    </tr>\n",
       "    <tr>\n",
       "      <th>2008.0</th>\n",
       "      <td>3493.380952</td>\n",
       "      <td>0.547619</td>\n",
       "      <td>1930.666667</td>\n",
       "      <td>5.535714</td>\n",
       "      <td>1955.107143</td>\n",
       "      <td>251.285714</td>\n",
       "      <td>1960.619048</td>\n",
       "      <td>77.333333</td>\n",
       "    </tr>\n",
       "    <tr>\n",
       "      <th>2009.0</th>\n",
       "      <td>3605.200000</td>\n",
       "      <td>0.412500</td>\n",
       "      <td>1931.375000</td>\n",
       "      <td>4.637500</td>\n",
       "      <td>1955.912500</td>\n",
       "      <td>251.800000</td>\n",
       "      <td>1960.375000</td>\n",
       "      <td>77.625000</td>\n",
       "    </tr>\n",
       "    <tr>\n",
       "      <th>2010.0</th>\n",
       "      <td>3615.656250</td>\n",
       "      <td>0.531250</td>\n",
       "      <td>1931.802083</td>\n",
       "      <td>5.708333</td>\n",
       "      <td>1956.062500</td>\n",
       "      <td>290.979167</td>\n",
       "      <td>1961.489583</td>\n",
       "      <td>78.197917</td>\n",
       "    </tr>\n",
       "    <tr>\n",
       "      <th>2011.0</th>\n",
       "      <td>3786.623762</td>\n",
       "      <td>0.534653</td>\n",
       "      <td>1933.019802</td>\n",
       "      <td>5.970297</td>\n",
       "      <td>1957.267327</td>\n",
       "      <td>339.267327</td>\n",
       "      <td>1962.851485</td>\n",
       "      <td>77.980198</td>\n",
       "    </tr>\n",
       "    <tr>\n",
       "      <th>2012.0</th>\n",
       "      <td>4133.243590</td>\n",
       "      <td>0.384615</td>\n",
       "      <td>1936.192308</td>\n",
       "      <td>5.833333</td>\n",
       "      <td>1960.051282</td>\n",
       "      <td>335.166667</td>\n",
       "      <td>1965.602564</td>\n",
       "      <td>75.807692</td>\n",
       "    </tr>\n",
       "    <tr>\n",
       "      <th>2013.0</th>\n",
       "      <td>3826.168421</td>\n",
       "      <td>0.578947</td>\n",
       "      <td>1933.631579</td>\n",
       "      <td>5.505263</td>\n",
       "      <td>1957.473684</td>\n",
       "      <td>334.126316</td>\n",
       "      <td>1962.778947</td>\n",
       "      <td>79.368421</td>\n",
       "    </tr>\n",
       "    <tr>\n",
       "      <th>2014.0</th>\n",
       "      <td>4062.272727</td>\n",
       "      <td>0.488636</td>\n",
       "      <td>1935.170455</td>\n",
       "      <td>4.795455</td>\n",
       "      <td>1959.522727</td>\n",
       "      <td>252.386364</td>\n",
       "      <td>1964.102273</td>\n",
       "      <td>78.829545</td>\n",
       "    </tr>\n",
       "    <tr>\n",
       "      <th>2015.0</th>\n",
       "      <td>4371.522222</td>\n",
       "      <td>0.900000</td>\n",
       "      <td>1938.033333</td>\n",
       "      <td>5.988889</td>\n",
       "      <td>1962.200000</td>\n",
       "      <td>349.933333</td>\n",
       "      <td>1967.855556</td>\n",
       "      <td>76.966667</td>\n",
       "    </tr>\n",
       "    <tr>\n",
       "      <th>2016.0</th>\n",
       "      <td>4396.123596</td>\n",
       "      <td>0.280899</td>\n",
       "      <td>1938.224719</td>\n",
       "      <td>5.000000</td>\n",
       "      <td>1962.089888</td>\n",
       "      <td>266.741573</td>\n",
       "      <td>1966.595506</td>\n",
       "      <td>77.775281</td>\n",
       "    </tr>\n",
       "    <tr>\n",
       "      <th>2017.0</th>\n",
       "      <td>4722.739130</td>\n",
       "      <td>0.565217</td>\n",
       "      <td>1940.304348</td>\n",
       "      <td>6.108696</td>\n",
       "      <td>1964.217391</td>\n",
       "      <td>355.543478</td>\n",
       "      <td>1969.739130</td>\n",
       "      <td>76.695652</td>\n",
       "    </tr>\n",
       "    <tr>\n",
       "      <th>2018.0</th>\n",
       "      <td>4360.493151</td>\n",
       "      <td>0.369863</td>\n",
       "      <td>1938.506849</td>\n",
       "      <td>5.863014</td>\n",
       "      <td>1962.109589</td>\n",
       "      <td>325.383562</td>\n",
       "      <td>1967.506849</td>\n",
       "      <td>79.493151</td>\n",
       "    </tr>\n",
       "  </tbody>\n",
       "</table>\n",
       "<p>100 rows × 8 columns</p>\n",
       "</div>"
      ],
      "text/plain": [
       "             Unnamed: 0  all star   birth year  experience   first year  \\\n",
       "death year                                                                \n",
       "1919.0              NaN       NaN          NaN         NaN          NaN   \n",
       "1920.0              NaN       NaN          NaN         NaN          NaN   \n",
       "1921.0              NaN       NaN          NaN         NaN          NaN   \n",
       "1922.0              NaN       NaN          NaN         NaN          NaN   \n",
       "1923.0              NaN       NaN          NaN         NaN          NaN   \n",
       "1924.0              NaN       NaN          NaN         NaN          NaN   \n",
       "1925.0              NaN       NaN          NaN         NaN          NaN   \n",
       "1926.0              NaN       NaN          NaN         NaN          NaN   \n",
       "1927.0        76.000000  0.000000  1900.000000    1.000000  1921.000000   \n",
       "1928.0       177.000000  0.000000  1901.000000    1.500000  1922.500000   \n",
       "1929.0       237.000000  0.000000  1901.500000    2.500000  1925.500000   \n",
       "1930.0       265.000000  0.000000  1902.000000    4.000000  1924.000000   \n",
       "1931.0              NaN       NaN          NaN         NaN          NaN   \n",
       "1932.0       274.000000  0.000000  1902.000000    7.000000  1922.000000   \n",
       "1933.0       487.000000  0.000000  1904.000000    4.000000  1930.000000   \n",
       "1934.0       276.000000  0.000000  1902.000000    1.000000  1925.500000   \n",
       "1935.0       605.333333  0.000000  1904.666667    2.333333  1930.000000   \n",
       "1936.0       186.000000  0.000000  1901.000000    1.000000  1921.000000   \n",
       "1937.0       705.125000  0.000000  1905.875000    2.875000  1928.625000   \n",
       "1938.0       807.000000  0.000000  1907.000000    8.000000  1927.000000   \n",
       "1939.0       565.000000  0.000000  1905.000000    4.000000  1928.000000   \n",
       "1940.0       741.666667  0.000000  1906.000000    4.666667  1930.333333   \n",
       "1941.0       370.000000  7.000000  1903.000000   17.000000  1923.000000   \n",
       "1942.0      1075.000000  0.000000  1909.000000    2.250000  1932.000000   \n",
       "1943.0       298.000000  0.000000  1902.000000   10.000000  1928.000000   \n",
       "1944.0       946.800000  0.000000  1908.200000    3.400000  1929.400000   \n",
       "1945.0      1005.200000  0.400000  1908.800000    5.400000  1933.200000   \n",
       "1946.0       573.000000  0.090909  1904.727273    4.727273  1929.090909   \n",
       "1947.0       695.428571  0.285714  1905.714286    4.857143  1929.285714   \n",
       "1948.0       510.500000  0.000000  1904.000000    9.250000  1926.500000   \n",
       "...                 ...       ...          ...         ...          ...   \n",
       "1989.0      2040.074627  0.358209  1917.791045    4.910448  1942.731343   \n",
       "1990.0      1970.594203  0.507246  1917.318841    5.347826  1941.521739   \n",
       "1991.0      2014.213483  0.651685  1917.696629    5.258427  1942.000000   \n",
       "1992.0      1924.378378  0.256757  1916.756757    4.445946  1941.837838   \n",
       "1993.0      2068.596154  0.673077  1917.980769    4.875000  1942.759615   \n",
       "1994.0      2038.234694  0.306122  1917.908163    4.724490  1943.357143   \n",
       "1995.0      2200.537500  0.700000  1919.212500    5.862500  1944.025000   \n",
       "1996.0      2390.050505  0.303030  1921.020202    4.858586  1945.787879   \n",
       "1997.0      2154.072917  0.395833  1918.802083    5.114583  1942.906250   \n",
       "1998.0      2468.266667  0.226667  1921.760000    4.693333  1947.386667   \n",
       "1999.0      2402.397436  0.858974  1920.961538    4.858974  1945.756410   \n",
       "2000.0      2448.987179  0.205128  1921.410256    4.474359  1946.628205   \n",
       "2001.0      2697.673913  0.521739  1923.554348    4.880435  1948.380435   \n",
       "2002.0      2597.897959  0.734694  1922.551020    5.846939  1947.112245   \n",
       "2003.0      2987.571429  0.472527  1925.978022    4.307692  1950.439560   \n",
       "2004.0      2877.523256  0.302326  1925.290698    5.488372  1949.895349   \n",
       "2005.0      2963.240506  0.329114  1926.063291    5.025316  1950.544304   \n",
       "2006.0      3118.265957  0.329787  1927.223404    5.712766  1952.085106   \n",
       "2007.0      3313.500000  0.387500  1928.675000    5.675000  1953.050000   \n",
       "2008.0      3493.380952  0.547619  1930.666667    5.535714  1955.107143   \n",
       "2009.0      3605.200000  0.412500  1931.375000    4.637500  1955.912500   \n",
       "2010.0      3615.656250  0.531250  1931.802083    5.708333  1956.062500   \n",
       "2011.0      3786.623762  0.534653  1933.019802    5.970297  1957.267327   \n",
       "2012.0      4133.243590  0.384615  1936.192308    5.833333  1960.051282   \n",
       "2013.0      3826.168421  0.578947  1933.631579    5.505263  1957.473684   \n",
       "2014.0      4062.272727  0.488636  1935.170455    4.795455  1959.522727   \n",
       "2015.0      4371.522222  0.900000  1938.033333    5.988889  1962.200000   \n",
       "2016.0      4396.123596  0.280899  1938.224719    5.000000  1962.089888   \n",
       "2017.0      4722.739130  0.565217  1940.304348    6.108696  1964.217391   \n",
       "2018.0      4360.493151  0.369863  1938.506849    5.863014  1962.109589   \n",
       "\n",
       "                  games    last year  approx age  \n",
       "death year                                        \n",
       "1919.0              NaN          NaN         NaN  \n",
       "1920.0              NaN          NaN         NaN  \n",
       "1921.0              NaN          NaN         NaN  \n",
       "1922.0              NaN          NaN         NaN  \n",
       "1923.0              NaN          NaN         NaN  \n",
       "1924.0              NaN          NaN         NaN  \n",
       "1925.0              NaN          NaN         NaN  \n",
       "1926.0              NaN          NaN         NaN  \n",
       "1927.0        20.000000  1921.000000   27.000000  \n",
       "1928.0        17.500000  1923.500000   27.000000  \n",
       "1929.0       121.500000  1927.500000   27.500000  \n",
       "1930.0       127.000000  1927.000000   28.000000  \n",
       "1931.0              NaN          NaN         NaN  \n",
       "1932.0       579.000000  1928.000000   30.000000  \n",
       "1933.0       321.000000  1933.000000   29.000000  \n",
       "1934.0         2.000000  1925.500000   32.000000  \n",
       "1935.0       115.000000  1932.000000   30.333333  \n",
       "1936.0         1.000000  1921.000000   35.000000  \n",
       "1937.0        58.750000  1931.375000   31.125000  \n",
       "1938.0       293.000000  1934.000000   31.000000  \n",
       "1939.0        87.000000  1936.000000   34.000000  \n",
       "1940.0       123.000000  1934.666667   34.000000  \n",
       "1941.0      2164.000000  1939.000000   38.000000  \n",
       "1942.0        69.250000  1933.750000   33.000000  \n",
       "1943.0       357.000000  1937.000000   41.000000  \n",
       "1944.0        84.600000  1931.800000   35.800000  \n",
       "1945.0       171.400000  1938.400000   36.200000  \n",
       "1946.0       313.636364  1933.545455   41.272727  \n",
       "1947.0       276.571429  1933.285714   41.285714  \n",
       "1948.0       637.500000  1939.250000   44.000000  \n",
       "...                 ...          ...         ...  \n",
       "1989.0       255.567164  1947.447761   71.208955  \n",
       "1990.0       297.289855  1946.971014   72.681159  \n",
       "1991.0       326.764045  1947.359551   73.303371  \n",
       "1992.0       218.608108  1946.391892   75.243243  \n",
       "1993.0       315.201923  1947.490385   75.019231  \n",
       "1994.0       239.928571  1948.051020   76.091837  \n",
       "1995.0       390.112500  1950.150000   75.787500  \n",
       "1996.0       268.696970  1950.757576   74.979798  \n",
       "1997.0       284.625000  1947.760417   78.197917  \n",
       "1998.0       205.480000  1952.186667   76.240000  \n",
       "1999.0       258.794872  1950.807692   78.038462  \n",
       "2000.0       225.576923  1951.243590   78.589744  \n",
       "2001.0       264.413043  1953.076087   77.445652  \n",
       "2002.0       323.112245  1952.806122   79.448980  \n",
       "2003.0       209.340659  1954.384615   77.021978  \n",
       "2004.0       318.604651  1955.337209   78.709302  \n",
       "2005.0       269.784810  1955.417722   78.936709  \n",
       "2006.0       333.202128  1957.734043   78.776596  \n",
       "2007.0       277.762500  1958.487500   78.325000  \n",
       "2008.0       251.285714  1960.619048   77.333333  \n",
       "2009.0       251.800000  1960.375000   77.625000  \n",
       "2010.0       290.979167  1961.489583   78.197917  \n",
       "2011.0       339.267327  1962.851485   77.980198  \n",
       "2012.0       335.166667  1965.602564   75.807692  \n",
       "2013.0       334.126316  1962.778947   79.368421  \n",
       "2014.0       252.386364  1964.102273   78.829545  \n",
       "2015.0       349.933333  1967.855556   76.966667  \n",
       "2016.0       266.741573  1966.595506   77.775281  \n",
       "2017.0       355.543478  1969.739130   76.695652  \n",
       "2018.0       325.383562  1967.506849   79.493151  \n",
       "\n",
       "[100 rows x 8 columns]"
      ]
     },
     "execution_count": 32,
     "metadata": {},
     "output_type": "execute_result"
    }
   ],
   "source": [
    "baseball_merged.groupby('death year').mean()"
   ]
  },
  {
   "cell_type": "markdown",
   "metadata": {},
   "source": [
    "### Average age at death vs. length of career"
   ]
  },
  {
   "cell_type": "code",
   "execution_count": 88,
   "metadata": {},
   "outputs": [],
   "source": [
    "died_since_2000 = baseball_merged[baseball_merged['death year'] > 1999]"
   ]
  },
  {
   "cell_type": "code",
   "execution_count": 89,
   "metadata": {},
   "outputs": [
    {
     "data": {
      "text/plain": [
       "experience\n",
       "1.0     419\n",
       "2.0     238\n",
       "3.0     167\n",
       "4.0     102\n",
       "5.0      90\n",
       "6.0     103\n",
       "7.0      79\n",
       "8.0      63\n",
       "9.0      63\n",
       "10.0     64\n",
       "11.0     57\n",
       "12.0     51\n",
       "13.0     46\n",
       "14.0     26\n",
       "15.0     27\n",
       "16.0     12\n",
       "17.0     22\n",
       "18.0     14\n",
       "19.0     10\n",
       "20.0      3\n",
       "21.0      3\n",
       "22.0      4\n",
       "23.0      1\n",
       "Name: link, dtype: int64"
      ]
     },
     "execution_count": 89,
     "metadata": {},
     "output_type": "execute_result"
    }
   ],
   "source": [
    "died_since_2000.groupby('experience').count()['link']"
   ]
  },
  {
   "cell_type": "code",
   "execution_count": 90,
   "metadata": {},
   "outputs": [
    {
     "data": {
      "text/plain": [
       "experience\n",
       "1.0     80.028640\n",
       "2.0     77.924370\n",
       "3.0     77.874251\n",
       "4.0     77.715686\n",
       "5.0     78.511111\n",
       "6.0     76.514563\n",
       "7.0     75.443038\n",
       "8.0     76.777778\n",
       "9.0     75.873016\n",
       "10.0    78.562500\n",
       "11.0    81.491228\n",
       "12.0    76.019608\n",
       "13.0    75.782609\n",
       "14.0    76.500000\n",
       "15.0    76.074074\n",
       "16.0    73.333333\n",
       "17.0    76.272727\n",
       "18.0    77.000000\n",
       "19.0    80.600000\n",
       "20.0    79.000000\n",
       "21.0    74.333333\n",
       "22.0    81.000000\n",
       "23.0    74.000000\n",
       "Name: approx age, dtype: float64"
      ]
     },
     "execution_count": 90,
     "metadata": {},
     "output_type": "execute_result"
    }
   ],
   "source": [
    "died_since_2000.groupby('experience').mean()['approx age']"
   ]
  },
  {
   "cell_type": "markdown",
   "metadata": {},
   "source": [
    "### Can we predict whether a player born between 1930 and 1945 is still alive?"
   ]
  },
  {
   "cell_type": "code",
   "execution_count": 18,
   "metadata": {},
   "outputs": [],
   "source": [
    "from sklearn.linear_model import LogisticRegression, LogisticRegressionCV\n",
    "from sklearn.model_selection import train_test_split, cross_val_predict, cross_val_score, GridSearchCV"
   ]
  },
  {
   "cell_type": "code",
   "execution_count": 19,
   "metadata": {},
   "outputs": [],
   "source": [
    "silent_baseball = baseball_merged[(baseball_merged['birth year'] >= 1930) & (baseball_merged['birth year'] <= 1945)]"
   ]
  },
  {
   "cell_type": "code",
   "execution_count": 20,
   "metadata": {},
   "outputs": [
    {
     "data": {
      "text/plain": [
       "Index(['Unnamed: 0', 'all star', 'birth city', 'birth date', 'birth year',\n",
       "       'experience', 'first year', 'games', 'last year', 'link', 'name',\n",
       "       'death date', 'death year', 'approx age'],\n",
       "      dtype='object')"
      ]
     },
     "execution_count": 20,
     "metadata": {},
     "output_type": "execute_result"
    }
   ],
   "source": [
    "silent_baseball.columns"
   ]
  },
  {
   "cell_type": "code",
   "execution_count": 21,
   "metadata": {},
   "outputs": [],
   "source": [
    "X = silent_baseball[['all star', 'birth year', 'experience', 'first year', 'games', 'last year']]\n",
    "y = [(1 if np.isnan(year) else 0) for year in silent_baseball['death year']]"
   ]
  },
  {
   "cell_type": "code",
   "execution_count": 36,
   "metadata": {},
   "outputs": [],
   "source": [
    "X_train, X_test, y_train, y_test = train_test_split(X, y, test_size=0.25, random_state=1978)"
   ]
  },
  {
   "cell_type": "code",
   "execution_count": 37,
   "metadata": {},
   "outputs": [
    {
     "name": "stdout",
     "output_type": "stream",
     "text": [
      "Fitting 3 folds for each of 4 candidates, totalling 12 fits\n"
     ]
    },
    {
     "name": "stderr",
     "output_type": "stream",
     "text": [
      "[Parallel(n_jobs=1)]: Done  12 out of  12 | elapsed:    2.1s finished\n"
     ]
    },
    {
     "data": {
      "text/plain": [
       "0.5858823529411765"
      ]
     },
     "execution_count": 37,
     "metadata": {},
     "output_type": "execute_result"
    }
   ],
   "source": [
    "logistic_params = {\n",
    "    'penalty': ['l1', 'l2'],\n",
    "    'C': [0.1, 1]\n",
    "}\n",
    "\n",
    "gs = GridSearchCV(\n",
    "    LogisticRegression(),\n",
    "    logistic_params, \n",
    "    verbose=1\n",
    ")\n",
    "\n",
    "gs_results = gs.fit(X_train, y_train)\n",
    "gs.score(X_test, y_test)"
   ]
  },
  {
   "cell_type": "code",
   "execution_count": 38,
   "metadata": {},
   "outputs": [
    {
     "data": {
      "text/plain": [
       "0.5880966411314084"
      ]
     },
     "execution_count": 38,
     "metadata": {},
     "output_type": "execute_result"
    }
   ],
   "source": [
    "np.average(y)"
   ]
  },
  {
   "cell_type": "code",
   "execution_count": 39,
   "metadata": {},
   "outputs": [],
   "source": [
    "from sklearn.neighbors import KNeighborsClassifier\n",
    "from sklearn.tree import DecisionTreeClassifier\n",
    "from sklearn.ensemble import RandomForestClassifier"
   ]
  },
  {
   "cell_type": "code",
   "execution_count": 40,
   "metadata": {},
   "outputs": [
    {
     "data": {
      "text/plain": [
       "0.5670588235294117"
      ]
     },
     "execution_count": 40,
     "metadata": {},
     "output_type": "execute_result"
    }
   ],
   "source": [
    "dtc = DecisionTreeClassifier()\n",
    "\n",
    "dtc.fit(X_train, y_train)\n",
    "\n",
    "dtc.score(X_test, y_test)"
   ]
  },
  {
   "cell_type": "code",
   "execution_count": 41,
   "metadata": {},
   "outputs": [
    {
     "data": {
      "text/plain": [
       "array([0.55058824, 0.54716981, 0.52245863])"
      ]
     },
     "execution_count": 41,
     "metadata": {},
     "output_type": "execute_result"
    }
   ],
   "source": [
    "cross_val_score(dtc, X_train, y_train)"
   ]
  },
  {
   "cell_type": "code",
   "execution_count": 42,
   "metadata": {},
   "outputs": [
    {
     "data": {
      "text/plain": [
       "0.6"
      ]
     },
     "execution_count": 42,
     "metadata": {},
     "output_type": "execute_result"
    }
   ],
   "source": [
    "rf = RandomForestClassifier()\n",
    "rf.fit(X_train, y_train)\n",
    "rf.score(X_test, y_test)"
   ]
  },
  {
   "cell_type": "code",
   "execution_count": 43,
   "metadata": {},
   "outputs": [
    {
     "data": {
      "text/plain": [
       "array([0.57647059, 0.59433962, 0.58628842])"
      ]
     },
     "execution_count": 43,
     "metadata": {},
     "output_type": "execute_result"
    }
   ],
   "source": [
    "cross_val_score(rf, X_train, y_train)"
   ]
  },
  {
   "cell_type": "markdown",
   "metadata": {},
   "source": [
    "#### Try adding in height and weight"
   ]
  },
  {
   "cell_type": "code",
   "execution_count": 62,
   "metadata": {},
   "outputs": [],
   "source": [
    "mlb_htwt = pd.read_csv('./data/mlb_ht_wt.csv')\n",
    "silent_baseball_htwt = pd.merge(silent_baseball, mlb_htwt, how='left', on='link')"
   ]
  },
  {
   "cell_type": "code",
   "execution_count": 52,
   "metadata": {},
   "outputs": [],
   "source": [
    "def to_inches(ht_string):\n",
    "    ft_in = str(ht_string).split('-')\n",
    "    return 12 * int(ft_in[0]) + int(ft_in[1])"
   ]
  },
  {
   "cell_type": "code",
   "execution_count": 63,
   "metadata": {},
   "outputs": [],
   "source": [
    "silent_baseball_htwt['inches'] = [to_inches(x) for x in silent_baseball_htwt['height']]"
   ]
  },
  {
   "cell_type": "code",
   "execution_count": 64,
   "metadata": {},
   "outputs": [],
   "source": [
    "silent_baseball_htwt['pounds'] = [int(str(x).replace('lb', '')) for x in silent_baseball_htwt['weight']]"
   ]
  },
  {
   "cell_type": "code",
   "execution_count": 68,
   "metadata": {},
   "outputs": [],
   "source": [
    "X = silent_baseball_htwt[['all star', 'birth year', 'experience', 'first year', 'games', 'last year', 'inches', 'pounds']]\n",
    "y = [(1 if np.isnan(year) else 0) for year in silent_baseball_htwt['death year']]"
   ]
  },
  {
   "cell_type": "code",
   "execution_count": 69,
   "metadata": {},
   "outputs": [],
   "source": [
    "X_train, X_test, y_train, y_test = train_test_split(X, y, test_size=0.25, random_state=1978)"
   ]
  },
  {
   "cell_type": "code",
   "execution_count": 70,
   "metadata": {},
   "outputs": [
    {
     "name": "stdout",
     "output_type": "stream",
     "text": [
      "Fitting 3 folds for each of 4 candidates, totalling 12 fits\n"
     ]
    },
    {
     "name": "stderr",
     "output_type": "stream",
     "text": [
      "[Parallel(n_jobs=1)]: Done  12 out of  12 | elapsed:    3.9s finished\n"
     ]
    },
    {
     "data": {
      "text/plain": [
       "0.6023529411764705"
      ]
     },
     "execution_count": 70,
     "metadata": {},
     "output_type": "execute_result"
    }
   ],
   "source": [
    "logistic_params = {\n",
    "    'penalty': ['l1', 'l2'],\n",
    "    'C': [0.1, 1]\n",
    "}\n",
    "\n",
    "gs = GridSearchCV(\n",
    "    LogisticRegression(),\n",
    "    logistic_params, \n",
    "    verbose=1\n",
    ")\n",
    "\n",
    "gs_results = gs.fit(X_train, y_train)\n",
    "gs.score(X_test, y_test)"
   ]
  },
  {
   "cell_type": "code",
   "execution_count": 71,
   "metadata": {},
   "outputs": [
    {
     "data": {
      "text/plain": [
       "0.5835294117647059"
      ]
     },
     "execution_count": 71,
     "metadata": {},
     "output_type": "execute_result"
    }
   ],
   "source": [
    "dtc = DecisionTreeClassifier()\n",
    "\n",
    "dtc.fit(X_train, y_train)\n",
    "\n",
    "dtc.score(X_test, y_test)"
   ]
  },
  {
   "cell_type": "code",
   "execution_count": 72,
   "metadata": {},
   "outputs": [
    {
     "data": {
      "text/plain": [
       "0.5811764705882353"
      ]
     },
     "execution_count": 72,
     "metadata": {},
     "output_type": "execute_result"
    }
   ],
   "source": [
    "rf = RandomForestClassifier()\n",
    "rf.fit(X_train, y_train)\n",
    "rf.score(X_test, y_test)"
   ]
  },
  {
   "cell_type": "markdown",
   "metadata": {},
   "source": [
    "#### What correlation is there between age at death and other features?"
   ]
  },
  {
   "cell_type": "code",
   "execution_count": 73,
   "metadata": {},
   "outputs": [],
   "source": [
    "import seaborn as sns"
   ]
  },
  {
   "cell_type": "code",
   "execution_count": 77,
   "metadata": {},
   "outputs": [
    {
     "data": {
      "text/plain": [
       "<matplotlib.axes._subplots.AxesSubplot at 0x229674e1320>"
      ]
     },
     "execution_count": 77,
     "metadata": {},
     "output_type": "execute_result"
    },
    {
     "data": {
      "image/png": "[encoded data removed]",
      "text/plain": [
       "<Figure size 576x396 with 2 Axes>"
      ]
     },
     "metadata": {},
     "output_type": "display_data"
    }
   ],
   "source": [
    "sns.heatmap(X.corr(), annot=True)"
   ]
  },
  {
   "cell_type": "code",
   "execution_count": 75,
   "metadata": {
    "scrolled": true
   },
   "outputs": [
    {
     "name": "stderr",
     "output_type": "stream",
     "text": [
      "C:\\Users\\ehkst\\Anaconda3\\envs\\dsi\\lib\\site-packages\\ipykernel\\__main__.py:1: SettingWithCopyWarning: \n",
      "A value is trying to be set on a copy of a slice from a DataFrame.\n",
      "Try using .loc[row_indexer,col_indexer] = value instead\n",
      "\n",
      "See the caveats in the documentation: http://pandas.pydata.org/pandas-docs/stable/indexing.html#indexing-view-versus-copy\n",
      "  if __name__ == '__main__':\n"
     ]
    }
   ],
   "source": [
    "X['alive'] = y"
   ]
  },
  {
   "cell_type": "markdown",
   "metadata": {},
   "source": [
    "Including age at death in Correlation plot restricted to deceased players:"
   ]
  },
  {
   "cell_type": "code",
   "execution_count": 84,
   "metadata": {},
   "outputs": [],
   "source": [
    "X_deceased = silent_baseball_htwt[silent_baseball_htwt['approx age'].notnull()]"
   ]
  },
  {
   "cell_type": "code",
   "execution_count": 86,
   "metadata": {},
   "outputs": [
    {
     "data": {
      "text/plain": [
       "<matplotlib.axes._subplots.AxesSubplot at 0x229687df198>"
      ]
     },
     "execution_count": 86,
     "metadata": {},
     "output_type": "execute_result"
    },
    {
     "data": {
      "image/png": "[encoded data removed]",
      "text/plain": [
       "<Figure size 576x396 with 2 Axes>"
      ]
     },
     "metadata": {},
     "output_type": "display_data"
    }
   ],
   "source": [
    "sns.heatmap(X_deceased[['all star', 'experience', 'games', 'inches', 'pounds', 'birth year', 'approx age']].corr(), annot=True)"
   ]
  },
  {
   "cell_type": "markdown",
   "metadata": {},
   "source": [
    "#### Save merged table"
   ]
  },
  {
   "cell_type": "code",
   "execution_count": 35,
   "metadata": {},
   "outputs": [],
   "source": [
    "baseball_merged.to_csv('./data/mlb_merged.csv')"
   ]
  }
 ],
 "metadata": {
  "kernelspec": {
   "display_name": "Python [conda env:dsi]",
   "language": "python",
   "name": "conda-env-dsi-py"
  },
  "language_info": {
   "codemirror_mode": {
    "name": "ipython",
    "version": 3
   },
   "file_extension": ".py",
   "mimetype": "text/x-python",
   "name": "python",
   "nbconvert_exporter": "python",
   "pygments_lexer": "ipython3",
   "version": "3.6.5"
  }
 },
 "nbformat": 4,
 "nbformat_minor": 2
}
