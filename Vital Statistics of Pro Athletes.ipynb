{
 "cells": [
  {
   "cell_type": "markdown",
   "metadata": {},
   "source": [
    "# Capstone Project: Vital Statistics of Professional Athletes\n",
    "\n",
    "## Problem Statement:\n",
    "### What impact does a career in professional sports have on the life expectancy of an athlete?\n",
    "\n",
    "More specifically:\n",
    "- Do different sports have different levels of impact on athletes' life expectancies?\n",
    "- Are life expectancies further affected by the length of the playing career, the number of games played, or the positions they played?\n",
    "- Can I build a model that predicts how many players will die in a given year, as well as the distribution of their ages when they died? Would this model be better than one based on vital statistics of the general population?"
   ]
  },
  {
   "cell_type": "markdown",
   "metadata": {},
   "source": [
    "### Proposed Data Sources:\n",
    "\n",
    "#### Athlete Statistics\n",
    "\n",
    "- baseball-reference.com\n",
    "- pro-football-reference.com\n",
    "- hockey-reference.com\n",
    "\n",
    "The Baseball and Football reference sites have individual pages that list all the players that died in a given year. They also list the length of their careers, when they played, and the total number of games played. The football site lists the players' positions, while the baseball site merely separates batters from pitchers. The football site also lists coaches along with players.\n",
    "\n",
    "The hockey reference site doesn't list players who died in a certain year, but they do list all the players born in a given year. These listings also contain the death date of each player. However, the death dates of some players may be unknown.\n",
    "\n",
    "There is a basketball reference site that has each player's death dates only on their individual pages. There are listings of players who were born in a given year, but the death dates aren't listed on those pages. Scraping for death dates might take considerably more work.\n",
    "\n",
    "If there is time, I would like to see if I could collect data on additional sports such as soccer, tennis, golf, boxing, auto racing, or cycling."
   ]
  },
  {
   "cell_type": "markdown",
   "metadata": {},
   "source": [
    "#### General Statistics\n",
    "\n",
    "An example of where I can get the age distribution of all deaths that happened in the U.S. is \n",
    "https://www.statista.com/statistics/241572/death-rate-by-age-and-sex-in-the-us/"
   ]
  },
  {
   "cell_type": "code",
   "execution_count": null,
   "metadata": {},
   "outputs": [],
   "source": []
  }
 ],
 "metadata": {
  "kernelspec": {
   "display_name": "Python [conda env:dsi]",
   "language": "python",
   "name": "conda-env-dsi-py"
  },
  "language_info": {
   "codemirror_mode": {
    "name": "ipython",
    "version": 3
   },
   "file_extension": ".py",
   "mimetype": "text/x-python",
   "name": "python",
   "nbconvert_exporter": "python",
   "pygments_lexer": "ipython3",
   "version": "3.6.5"
  }
 },
 "nbformat": 4,
 "nbformat_minor": 2
}
